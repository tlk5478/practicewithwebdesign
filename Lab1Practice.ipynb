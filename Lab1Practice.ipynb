{
  "nbformat": 4,
  "nbformat_minor": 0,
  "metadata": {
    "colab": {
      "name": "Lab1Practice.ipynb",
      "provenance": [],
      "collapsed_sections": [],
      "authorship_tag": "ABX9TyMu35P98kdgjQr8O3J4UKuJ",
      "include_colab_link": true
    },
    "kernelspec": {
      "name": "python3",
      "display_name": "Python 3"
    }
  },
  "cells": [
    {
      "cell_type": "markdown",
      "metadata": {
        "id": "view-in-github",
        "colab_type": "text"
      },
      "source": [
        "<a href=\"https://colab.research.google.com/github/tlk5478/practicewithwebdesign/blob/master/Lab1Practice.ipynb\" target=\"_parent\"><img src=\"https://colab.research.google.com/assets/colab-badge.svg\" alt=\"Open In Colab\"/></a>"
      ]
    },
    {
      "cell_type": "markdown",
      "metadata": {
        "id": "qLTX_cSKu8ED",
        "colab_type": "text"
      },
      "source": [
        "## Do you like using Jupyter Notebooks?"
      ]
    },
    {
      "cell_type": "markdown",
      "metadata": {
        "id": "jGLRkci_vKti",
        "colab_type": "text"
      },
      "source": [
        "Yes I do like Jupyter Notebooks! I have never used Jupyter Notebooks before and I am excited to get to understand it even more."
      ]
    },
    {
      "cell_type": "markdown",
      "metadata": {
        "id": "nC-Dr7nevNki",
        "colab_type": "text"
      },
      "source": [
        "## What do you want to learn more about in Jupyter Notebooks?"
      ]
    },
    {
      "cell_type": "markdown",
      "metadata": {
        "id": "6_yHRbmJvR3V",
        "colab_type": "text"
      },
      "source": [
        "First, I would like to fully grasp how to navigate through Jupyter Notebooks. I would also like to learn how to share coding and or images."
      ]
    },
    {
      "cell_type": "markdown",
      "metadata": {
        "id": "1DpBj5aVvdHZ",
        "colab_type": "text"
      },
      "source": [
        "![Mark is an Author](https://raw.githubusercontent.com/tlk5478/practicewithwebdesign/master/markkkkk.jpg)"
      ]
    }
  ]
}